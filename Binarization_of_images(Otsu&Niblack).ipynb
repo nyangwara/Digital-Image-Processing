{
  "nbformat": 4,
  "nbformat_minor": 0,
  "metadata": {
    "colab": {
      "provenance": [],
      "mount_file_id": "1Ys-8Wkt_9diBAqDchQuGVhHPF-8FZzMg",
      "authorship_tag": "ABX9TyM+i1mDNMGp8da0OCWrr6Nn",
      "include_colab_link": true
    },
    "kernelspec": {
      "name": "python3",
      "display_name": "Python 3"
    },
    "language_info": {
      "name": "python"
    }
  },
  "cells": [
    {
      "cell_type": "markdown",
      "metadata": {
        "id": "view-in-github",
        "colab_type": "text"
      },
      "source": [
        "<a href=\"https://colab.research.google.com/github/nyangwara/Digital-Image-Processing/blob/master/Binarization_of_images(Otsu%26Niblack).ipynb\" target=\"_parent\"><img src=\"https://colab.research.google.com/assets/colab-badge.svg\" alt=\"Open In Colab\"/></a>"
      ]
    },
    {
      "cell_type": "code",
      "source": [
        "import numpy as np\n",
        "import cv2 as cv"
      ],
      "metadata": {
        "id": "mjih0khmiS_1"
      },
      "execution_count": 2,
      "outputs": []
    },
    {
      "cell_type": "markdown",
      "source": [
        "**Otsu Binarization**"
      ],
      "metadata": {
        "id": "-vlysgaZlp6b"
      }
    },
    {
      "cell_type": "code",
      "source": [
        "img = cv.imread('/content/Goldhill.png',cv.IMREAD_GRAYSCALE)\n",
        "histogram = hist(img)\n",
        "global_mean = np.mean(img)\n",
        "mu1 = 0\n",
        "mu2 = global_mean\n",
        "w1 = 0\n",
        "maxvar = 0\n",
        "cumsum = 0\n",
        "thresh = 0\n",
        "for t in range(255):\n",
        "    cumsum += t*histogram[t]\n",
        "    w1 += histogram[t]\n",
        "    if w1 == 0:\n",
        "        continue\n",
        "    if w1 == 1:\n",
        "        break\n",
        "    mu1 = cumsum/w1\n",
        "    mu2 = (global_mean - mu1*w1)/(1 - w1)\n",
        "    var = w1*(1-w1)*(mu1 - mu2)**2\n",
        "    if var > maxvar:\n",
        "        maxvar = var\n",
        "        thresh = t+1\n",
        "\n",
        "out_img = cv.threshold(img, thresh, 255, cv.THRESH_BINARY)[1]\n",
        "cv.imwrite('out.png', out_img)\n"
      ],
      "metadata": {
        "colab": {
          "base_uri": "https://localhost:8080/"
        },
        "id": "3ln32DKRkvIm",
        "outputId": "a0864e43-4849-43fa-fd53-b3b94f6ce487"
      },
      "execution_count": null,
      "outputs": [
        {
          "output_type": "execute_result",
          "data": {
            "text/plain": [
              "True"
            ]
          },
          "metadata": {},
          "execution_count": 3
        }
      ]
    },
    {
      "cell_type": "code",
      "source": [
        "img = cv.imread('/content/handwriting.jpg', cv.IMREAD_GRAYSCALE)\n",
        "histogram = np.zeros(256, dtype=np.float32)\n",
        "sum_hist = 0\n",
        "for i in range(img.shape[0]):\n",
        "    for j in range(img.shape[1]):\n",
        "        histogram[img[i, j]] += 1\n",
        "        sum_hist += 1\n",
        "histogram /= sum_hist\n",
        "\n",
        "global_mean = np.mean(img)\n",
        "mu1 = 0\n",
        "mu2 = global_mean\n",
        "w1 = 0\n",
        "maxvar = 0\n",
        "cumsum = 0\n",
        "thresh = 0\n",
        "for t in range(255):\n",
        "    cumsum += t * histogram[t]\n",
        "    w1 += histogram[t]\n",
        "    if w1 == 0:\n",
        "        continue\n",
        "    if w1 == 1:\n",
        "        break\n",
        "    mu1 = cumsum / w1\n",
        "    mu2 = (global_mean - mu1 * w1) / (1 - w1)\n",
        "    var = w1 * (1 - w1) * (mu1 - mu2) ** 2\n",
        "    if var > maxvar:\n",
        "        maxvar = var\n",
        "        thresh = t + 1\n",
        "\n",
        "out_img = cv.threshold(img, thresh, 255, cv.THRESH_BINARY)[1]\n",
        "cv.imwrite('handwriting1.png', out_img)\n"
      ],
      "metadata": {
        "colab": {
          "base_uri": "https://localhost:8080/"
        },
        "id": "c13-gDtplctj",
        "outputId": "d8e94972-f9b9-4ba5-b4aa-7875a8a6fb61"
      },
      "execution_count": 9,
      "outputs": [
        {
          "output_type": "execute_result",
          "data": {
            "text/plain": [
              "True"
            ]
          },
          "metadata": {},
          "execution_count": 9
        }
      ]
    },
    {
      "cell_type": "code",
      "source": [
        "def hist(img):\n",
        "    histogram = np.zeros(256,dtype=np.float32)\n",
        "    sum_hist = 0\n",
        "    for i in range(img.shape[0]):\n",
        "        for j in range(img.shape[1]):\n",
        "            histogram[img[i,j]]+=1\n",
        "            sum_hist += 1\n",
        "    return histogram/sum_hist\n",
        "\n",
        "img = cv.imread('/content/baboon.png',cv.IMREAD_GRAYSCALE)\n",
        "histogram = hist(img)\n",
        "global_mean = np.mean(img)\n",
        "mu2 = 0\n",
        "mu2 = global_mean\n",
        "global_var = np.var(img)\n",
        "w1 = 0\n",
        "maxcriterion=0\n",
        "cumsum = 0\n",
        "thresh = 0\n",
        "for t in range(255):\n",
        "    cumsum += t*histogram[t]\n",
        "    w1 += histogram[t]\n",
        "    mu1 = cumsum/w1\n",
        "    mu2 = (global_mean - mu1*w1)/(1 - w1)\n",
        "    var = w1*(1-w1)*(mu1 - mu2)**2\n",
        "    criterion = w1*np.log(w1)+(1-w1)*np.log(1-w1) - 0.5*np.log(global_var - var) + 50\n",
        "    if criterion > maxcriterion:\n",
        "        maxcriterion = criterion\n",
        "        thresh = t+1\n",
        "\n",
        "out_img = cv.threshold(img, thresh, 255, cv.THRESH_BINARY)[1]\n",
        "cv.imwrite('out.png', out_img)\n"
      ],
      "metadata": {
        "colab": {
          "base_uri": "https://localhost:8080/"
        },
        "id": "u-wDXNRjDmHB",
        "outputId": "d37eb453-7b0e-429c-d4bd-1c7db8feec46"
      },
      "execution_count": 3,
      "outputs": [
        {
          "output_type": "stream",
          "name": "stderr",
          "text": [
            "<ipython-input-3-79843159c675>:24: RuntimeWarning: invalid value encountered in double_scalars\n",
            "  mu2 = (global_mean - mu1*w1)/(1 - w1)\n",
            "<ipython-input-3-79843159c675>:26: RuntimeWarning: divide by zero encountered in log\n",
            "  criterion = w1*np.log(w1)+(1-w1)*np.log(1-w1) - 0.5*np.log(global_var - var) + 50\n",
            "<ipython-input-3-79843159c675>:26: RuntimeWarning: invalid value encountered in double_scalars\n",
            "  criterion = w1*np.log(w1)+(1-w1)*np.log(1-w1) - 0.5*np.log(global_var - var) + 50\n"
          ]
        },
        {
          "output_type": "execute_result",
          "data": {
            "text/plain": [
              "True"
            ]
          },
          "metadata": {},
          "execution_count": 3
        }
      ]
    },
    {
      "cell_type": "markdown",
      "source": [
        "**The Niblack method**"
      ],
      "metadata": {
        "id": "KEj2EuBdETxJ"
      }
    },
    {
      "cell_type": "code",
      "source": [
        "img = cv.imread('/content/handwriting.jpg', cv.IMREAD_GRAYSCALE)\n",
        "kernel = np.ones((40,40),dtype=np.float32)/1600\n",
        "img_mean = cv.filter2D(img,-1,kernel)\n",
        "img_sqmean = cv.filter2D(np.power(img,2),-1,kernel)\n",
        "img_sd = np.sqrt(img_sqmean - np.power(img_mean,2))\n",
        "k = 0.1\n",
        "threshold_mat = img_mean + k*img_sd\n",
        "out_img = (img>threshold_mat).astype(np.uint8)*255\n",
        "cv.imwrite('handwriting2.png',out_img)\n"
      ],
      "metadata": {
        "colab": {
          "base_uri": "https://localhost:8080/"
        },
        "id": "OlBVMTs2EbJX",
        "outputId": "05805b9c-009e-49b2-8137-93f97c207739"
      },
      "execution_count": 10,
      "outputs": [
        {
          "output_type": "execute_result",
          "data": {
            "text/plain": [
              "True"
            ]
          },
          "metadata": {},
          "execution_count": 10
        }
      ]
    },
    {
      "cell_type": "code",
      "source": [
        "def makekernel(size):\n",
        "    return np.ones((size,size),dtype=np.float32)/size**2\n",
        "\n",
        "\n",
        "img = cv.imread('/content/handwriting1.png', cv.IMREAD_GRAYSCALE).astype(np.float32)\n",
        "size = 40\n",
        "img_mean = []\n",
        "img_sqmean = []\n",
        "img_sd = []\n",
        "threshold_mat = np.zeros(img.shape, dtype=float)\n",
        "num = int(np.log2(min(img.shape)/20))\n",
        "for i in range(num):\n",
        "    kernel = makekernel(size)\n",
        "    img_mean.append(cv.filter2D(img,-1,kernel).astype(np.float32))\n",
        "    img_sqmean.append(cv.filter2D(np.power(img,2),-1,kernel).astype(np.float32))\n",
        "    img_sd_tmp = np.maximum(img_sqmean[-1] - np.power(img_mean[-1],2), np.zeros(img_mean[-1].shape, dtype=float))\n",
        "    img_sd_tmp = np.sqrt(img_sd_tmp)\n",
        "    img_sd.append(img_sd_tmp)\n",
        "    size *= 2\n",
        "k = 0.01\n",
        "sigma_thresh = 35\n",
        "for i in range(img.shape[0]):\n",
        "    for j in range(img.shape[1]):\n",
        "        for t in range(num):\n",
        "            if img_sd[t][i,j]< sigma_thresh:\n",
        "                continue\n",
        "            threshold_mat[i,j] = img_mean[t][i,j] + k*img_sd[t][i,j]\n",
        "            break\n",
        "#threshold_mat = img_mean[ind] + k*img_sd[ind]\n",
        "out_img = (img>threshold_mat).astype(np.uint8)*255\n",
        "cv.imwrite('handwriting1result.png.png',out_img)\n",
        "cv.imwrite('mean_handwriting.png',img_mean[0])\n",
        "cv.imwrite('sd_handwriting.png',img_sd[3])\n"
      ],
      "metadata": {
        "colab": {
          "base_uri": "https://localhost:8080/"
        },
        "id": "A5p2XLBME5rp",
        "outputId": "abb00b9c-fd58-496e-be35-c16d5fcaf5b3"
      },
      "execution_count": 11,
      "outputs": [
        {
          "output_type": "execute_result",
          "data": {
            "text/plain": [
              "True"
            ]
          },
          "metadata": {},
          "execution_count": 11
        }
      ]
    }
  ]
}